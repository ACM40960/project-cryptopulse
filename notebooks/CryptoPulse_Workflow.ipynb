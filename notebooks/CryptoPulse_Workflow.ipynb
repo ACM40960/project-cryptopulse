{
 "cells": [
  {
   "cell_type": "markdown",
   "metadata": {},
   "source": [
    "# CryptoPulse: Project Workflow and Guide"
   ]
  },
  {
   "cell_type": "markdown",
   "metadata": {},
   "source": [
    "## Introduction\n",
    "\n",
    "This notebook serves as the central guide to the CryptoPulse project. It outlines the entire workflow, from data collection to model analysis, providing explanations and direct links to the source code for each step. The project is a comprehensive and honest investigation into the use of social media sentiment for cryptocurrency price prediction, exploring a wide range of models and techniques to provide a clear picture of the challenges and opportunities in this domain.\n",
    "\n",
    "Follow the steps below to understand the project's architecture and methodology."
   ]
  },
  {
   "cell_type": "markdown",
   "metadata": {},
   "source": [
    "## Part 1: Data Collection Pipeline\n",
    "\n",
    "The first step is to gather data from a variety of sources. Each source has its own dedicated script in the `src/` or `collection/` directories."
   ]
  },
  {
   "cell_type": "markdown",
   "metadata": {},
   "source": [
    "### 1.1 Reddit\n",
    "- **Purpose:** Collects posts from specified cryptocurrency-related subreddits.\n",
    "- **Script:** [src/reddit_scraper.py](../src/reddit_scraper.py)"
   ]
  },
  {
   "cell_type": "markdown",
   "metadata": {},
   "source": [
    "### 1.2 Twitter\n",
    "- **Purpose:** Scrapes tweets from influential crypto accounts. This is a complex task and the script is more of a proof-of-concept.\n",
    "- **Script:** [src/twitter_scraper.py](../src/twitter_scraper.py)"
   ]
  },
  {
   "cell_type": "markdown",
   "metadata": {},
   "source": [
    "### 1.3 News & RSS Feeds\n",
    "- **Purpose:** Gathers articles from a large list of crypto news websites via their RSS feeds.\n",
    "- **Script:** [collection/massive_rss_campaign.py](../collection/massive_rss_campaign.py)"
   ]
  },
  {
   "cell_type": "markdown",
   "metadata": {},
   "source": [
    "### 1.4 Price Data\n",
    "- **Purpose:** Fetches historical price data for Ethereum (ETH) from Yahoo Finance.\n",
    "- **Script:** [src/price_collector.py](../src/price_collector.py)"
   ]
  },
  {
   "cell_type": "markdown",
   "metadata": {},
   "source": [
    "## Part 2: Feature Engineering & Dataset Creation\n",
    "\n",
    "Once the raw data is collected, it is processed to create features for our models."
   ]
  },
  {
   "cell_type": "markdown",
   "metadata": {},
   "source": [
    "### 2.1 Sentiment Scoring\n",
    "- **Purpose:** Analyzes the text from posts and articles to generate traditional sentiment scores and other custom metrics.\n",
    "- **Script:** [src/score_metrics.py](../src/score_metrics.py)"
   ]
  },
  {
   "cell_type": "markdown",
   "metadata": {},
   "source": [
    "### 2.2 ML Dataset Creation\n",
    "- **Purpose:** Combines the scored data with price data, aggregates it by day, and creates the final dataset for training. This script focuses on a specific 6-month period to ensure a high-quality, consistent dataset.\n",
    "- **Script:** [src/simplified_ml_dataset.py](../src/simplified_ml_dataset.py)"
   ]
  },
  {
   "cell_type": "markdown",
   "metadata": {},
   "source": [
    "## Part 3: Model Training and Evaluation\n",
    "\n",
    "With the final dataset, we train and evaluate a wide range of models to provide a comprehensive analysis."
   ]
  },
  {
   "cell_type": "markdown",
   "metadata": {},
   "source": [
    "### 3.1 Baseline Model\n",
    "- **Purpose:** A simple Logistic Regression model to serve as a baseline for performance comparison.\n",
    "- **Script:** [src/simple_model_trainer.py](../src/simple_model_trainer.py)"
   ]
  },
  {
   "cell_type": "markdown",
   "metadata": {},
   "source": [
    "### 3.2 Traditional Machine Learning Models\n",
    "- **Purpose:** A suite of traditional, tree-based ensemble models (LightGBM, XGBoost, Random Forest) that are known for their high performance on tabular data.\n",
    "- **Script:** [src/ml_model_trainer.py](../src/ml_model_trainer.py)"
   ]
  },
  {
   "cell_type": "markdown",
   "metadata": {},
   "source": [
    "### 3.3 Deep Learning Model (LSTM)\n",
    "- **Purpose:** A Long Short-Term Memory (LSTM) network, a type of recurrent neural network (RNN) well-suited for time-series forecasting.\n",
    "- **Script:** [src/modeling/lstm_trainer.py](../src/modeling/lstm_trainer.py)"
   ]
  },
  {
   "cell_type": "markdown",
   "metadata": {},
   "source": [
    "### 3.4 Advanced NLP Model (CryptoBERT)\n",
    "- **Purpose:** This script uses the pre-trained CryptoBERT model to generate contextual embeddings from the daily text data. It then trains a suite of models on a combination of these embeddings, traditional sentiment features, and technical indicators.\n",
    "- **Script:** [src/modeling/cryptobert_trainer.py](../src/modeling/cryptobert_trainer.py)"
   ]
  },
  
  {
   "cell_type": "markdown",
   "metadata": {},
   "source": [
    "### 3.6 Model Comparison and Plotting\n",
    "- **Purpose:** Compares the performance of all the different models and generates plots for analysis.\n",
    "- **Comparison Script:** [src/model_comparison.py](../src/model_comparison.py)\n",
    "- **Plotting Script:** [src/generate_plots.py](../src/generate_plots.py)"
   ]
  },
  {
   "cell_type": "markdown",
   "metadata": {},
   "source": [
    "## Conclusion\n",
    "\n",
    "This notebook provides a clear roadmap to the CryptoPulse project. The workflow is designed to be a comprehensive and honest investigation, allowing for the comparison of a wide range of models. The project's findings are based on a rigorous analysis of the strengths and weaknesses of each approach, providing a solid foundation for future research and development in this domain."
   ]
  }
 ],
 "metadata": {
  "kernelspec": {
   "display_name": "Python 3",
   "language": "python",
   "name": "python3"
  },
  "language_info": {
   "codemirror_mode": {
    "name": "ipython",
    "version": 3
   },
   "file_extension": ".py",
   "mimetype": "text/x-python",
   "name": "python",
   "nbconvert_exporter": "python",
   "pygments_lexer": "ipython3",
   "version": "3.10.12"
  }
 },
 "nbformat": 4,
 "nbformat_minor": 4
}